{
 "cells": [
  {
   "cell_type": "code",
   "execution_count": 2,
   "metadata": {},
   "outputs": [],
   "source": [
    "from catboost import CatBoostClassifier, Pool\n",
    "import numpy as np\n",
    "from sklearn.decomposition import PCA\n",
    "from sklearn.metrics import classification_report\n",
    "import copy "
   ]
  },
  {
   "cell_type": "markdown",
   "metadata": {},
   "source": [
    "### Перейдем непосредственно к классификации.   \n",
    "#### Основным нашим методом будет градиентный бустинг от CatBoost."
   ]
  },
  {
   "cell_type": "code",
   "execution_count": 99,
   "metadata": {},
   "outputs": [],
   "source": [
    "N_COMPONENTS = 128\n",
    "class_names = ['Female', 'Male']"
   ]
  },
  {
   "cell_type": "markdown",
   "metadata": {},
   "source": [
    "Загрузим подготовленный датасет"
   ]
  },
  {
   "cell_type": "code",
   "execution_count": 3,
   "metadata": {},
   "outputs": [],
   "source": [
    "X_train = np.load('./data/features/train_x.npy')\n",
    "y_train = np.load('./data/features/train_y.npy')\n",
    "X_val = np.load('./data/features/val_x.npy')\n",
    "y_val = np.load('./data/features/val_y.npy')\n",
    "X_test = np.load('./data/features/test_x.npy')\n",
    "y_test = np.load('./data/features/test_y.npy')"
   ]
  },
  {
   "cell_type": "markdown",
   "metadata": {},
   "source": [
    "Так как многие значения векторов X имеют нулевые значения, их размер избыточен, поэтому для начала применим метод главных компонент для понижения размерности"
   ]
  },
  {
   "cell_type": "code",
   "execution_count": 30,
   "metadata": {},
   "outputs": [],
   "source": [
    "pca = PCA(n_components=N_COMPONENTS)\n",
    "pca.fit(X_train)\n",
    "X_train_pca = pca.transform(X_train)"
   ]
  },
  {
   "cell_type": "code",
   "execution_count": 31,
   "metadata": {},
   "outputs": [],
   "source": [
    "X_val_pca = pca.transform(X_val)\n",
    "X_test_pca = pca.transform(X_test)"
   ]
  },
  {
   "cell_type": "markdown",
   "metadata": {},
   "source": [
    "В качестве классификатора будет использоваться CatBoostClassifier"
   ]
  },
  {
   "cell_type": "code",
   "execution_count": 32,
   "metadata": {},
   "outputs": [],
   "source": [
    "train_dataset = Pool(data=X_train_pca, \n",
    "                     label=y_train,\n",
    "                    )\n",
    "val_dataset = Pool(data=X_val_pca,\n",
    "                    label=y_val,\n",
    "                    )\n",
    "test_dataset = Pool(data=X_test_pca,\n",
    "                    label=y_test)"
   ]
  },
  {
   "cell_type": "code",
   "execution_count": 93,
   "metadata": {},
   "outputs": [],
   "source": [
    "clf = CatBoostClassifier(iterations = None,\n",
    "                        learning_rate=0.01,\n",
    "                        loss_function='Logloss',\n",
    "                        verbose=False)"
   ]
  },
  {
   "cell_type": "code",
   "execution_count": 94,
   "metadata": {},
   "outputs": [
    {
     "data": {
      "text/plain": [
       "<catboost.core.CatBoostClassifier at 0x1f70055ebb0>"
      ]
     },
     "execution_count": 94,
     "metadata": {},
     "output_type": "execute_result"
    }
   ],
   "source": [
    "clf.fit(train_dataset)"
   ]
  },
  {
   "cell_type": "code",
   "execution_count": 95,
   "metadata": {},
   "outputs": [],
   "source": [
    "prediction_val = clf.predict(val_dataset)"
   ]
  },
  {
   "cell_type": "code",
   "execution_count": 96,
   "metadata": {},
   "outputs": [
    {
     "name": "stdout",
     "output_type": "stream",
     "text": [
      "Accuracy: 0.9617930204572804\n"
     ]
    }
   ],
   "source": [
    "print(\"Accuracy:\", np.mean(np.array(prediction_val).flatten() == y_val))"
   ]
  },
  {
   "cell_type": "code",
   "execution_count": 97,
   "metadata": {},
   "outputs": [
    {
     "name": "stdout",
     "output_type": "stream",
     "text": [
      "Accuracy: 0.9756047136654952\n"
     ]
    }
   ],
   "source": [
    "prediction_test = clf.predict(test_dataset)\n",
    "print(\"Accuracy:\", np.mean(np.array(prediction_test).flatten() == y_test))"
   ]
  },
  {
   "cell_type": "code",
   "execution_count": 98,
   "metadata": {},
   "outputs": [],
   "source": [
    "clf.save_model('./parameters/clf_model.pkl')"
   ]
  },
  {
   "cell_type": "markdown",
   "metadata": {},
   "source": [
    "Посмотрим на другие метрики классификации"
   ]
  },
  {
   "cell_type": "code",
   "execution_count": 100,
   "metadata": {},
   "outputs": [
    {
     "name": "stdout",
     "output_type": "stream",
     "text": [
      "              precision    recall  f1-score   support\n",
      "\n",
      "      Female       0.97      0.99      0.98      2930\n",
      "        Male       0.98      0.96      0.97      1907\n",
      "\n",
      "    accuracy                           0.98      4837\n",
      "   macro avg       0.98      0.97      0.97      4837\n",
      "weighted avg       0.98      0.98      0.98      4837\n",
      "\n"
     ]
    }
   ],
   "source": [
    "print(classification_report(y_test, prediction_test, target_names=class_names))"
   ]
  },
  {
   "cell_type": "code",
   "execution_count": 102,
   "metadata": {},
   "outputs": [],
   "source": [
    "import pickle\n",
    "with open('./parameters/pca.pkl', 'wb') as pickle_file:\n",
    "    pickle.dump(pca, pickle_file)"
   ]
  }
 ],
 "metadata": {
  "kernelspec": {
   "display_name": "Python 3.9.12 ('torch')",
   "language": "python",
   "name": "python3"
  },
  "language_info": {
   "codemirror_mode": {
    "name": "ipython",
    "version": 3
   },
   "file_extension": ".py",
   "mimetype": "text/x-python",
   "name": "python",
   "nbconvert_exporter": "python",
   "pygments_lexer": "ipython3",
   "version": "3.9.12"
  },
  "orig_nbformat": 4,
  "vscode": {
   "interpreter": {
    "hash": "f5742b939448406dc9452fb4bcdaa04b1d36ebd59083e6e66b8eacc4febbf333"
   }
  }
 },
 "nbformat": 4,
 "nbformat_minor": 2
}
