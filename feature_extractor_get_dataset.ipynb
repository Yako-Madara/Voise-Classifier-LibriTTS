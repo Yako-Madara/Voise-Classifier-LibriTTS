{
 "cells": [
  {
   "cell_type": "code",
   "execution_count": 8,
   "metadata": {},
   "outputs": [],
   "source": [
    "import time\n",
    "import functools\n",
    "import torch\n",
    "import torch.nn as nn\n",
    "import torch.nn.functional as F\n",
    "import torchaudio\n",
    "import numpy as np\n",
    "import matplotlib.pyplot as plt\n",
    "import torchvision\n",
    "from torch.utils.data import DataLoader\n",
    "from models.resnet import ResNet18, ResNet, BasicBlock\n",
    "from utils.dataset import LIBRITTS\n",
    "import warnings\n",
    "warnings.filterwarnings(\"ignore\", category=DeprecationWarning) "
   ]
  },
  {
   "cell_type": "markdown",
   "metadata": {},
   "source": [
    "Последний этап в рамках инженерии признаков. Преобразуем весь датасет в numpy массив, состоящий из векторов длины 8192, используя обученную сеть ResNet18"
   ]
  },
  {
   "cell_type": "code",
   "execution_count": 11,
   "metadata": {},
   "outputs": [],
   "source": [
    "BATCH_SIZE = 32\n",
    "SAMPLE_RATE = 24000\n",
    "N_MELS = 128\n",
    "N_FFT = 1024"
   ]
  },
  {
   "cell_type": "code",
   "execution_count": 9,
   "metadata": {},
   "outputs": [],
   "source": [
    "model = torch.load('./parameters/model.pkl') # Загрузили обученню модель"
   ]
  },
  {
   "cell_type": "code",
   "execution_count": 10,
   "metadata": {},
   "outputs": [],
   "source": [
    "device = \"cuda\" if torch.cuda.is_available() else \"cpu\"\n",
    "model = model.to(device)"
   ]
  },
  {
   "cell_type": "code",
   "execution_count": 12,
   "metadata": {},
   "outputs": [],
   "source": [
    "sample_transforms = torchvision.transforms.Compose([\n",
    "    torchaudio.transforms.MelSpectrogram(sample_rate=SAMPLE_RATE,\n",
    "                                        n_fft=N_FFT, \n",
    "                                        n_mels=N_MELS,\n",
    "                                        normalized=True),\n",
    "    torchvision.transforms.Resize((128, 128))\n",
    "])"
   ]
  },
  {
   "cell_type": "code",
   "execution_count": 13,
   "metadata": {},
   "outputs": [],
   "source": [
    "gender_labels = torch.load('./data/labels/gender_labels')"
   ]
  },
  {
   "cell_type": "code",
   "execution_count": 14,
   "metadata": {},
   "outputs": [],
   "source": [
    "test_dataset = LIBRITTS(\n",
    "    root='./data/',\n",
    "    url=\"test-clean\",\n",
    "    download=True,\n",
    "    gender_labels=gender_labels,\n",
    "    transforms=sample_transforms\n",
    ")"
   ]
  },
  {
   "cell_type": "code",
   "execution_count": 15,
   "metadata": {},
   "outputs": [],
   "source": [
    "train_dataset = LIBRITTS(\n",
    "    root='./data/',\n",
    "    url=\"train-clean-100\",\n",
    "    download=True,\n",
    "    gender_labels=gender_labels,\n",
    "    transforms=sample_transforms\n",
    ")"
   ]
  },
  {
   "cell_type": "code",
   "execution_count": 16,
   "metadata": {},
   "outputs": [],
   "source": [
    "len_train_dataset = len(train_dataset)\n",
    "part_train = int(len_train_dataset*0.8)\n",
    "\n",
    "train_dataset, val_dataset = torch.utils.data.random_split(train_dataset, [part_train, len_train_dataset - part_train])"
   ]
  },
  {
   "cell_type": "code",
   "execution_count": 17,
   "metadata": {},
   "outputs": [],
   "source": [
    "train_data_loader = torch.utils.data.DataLoader(train_dataset,\n",
    "                                          batch_size=BATCH_SIZE,\n",
    "                                          shuffle=False,\n",
    "                                          num_workers = 2,\n",
    "                                          pin_memory = True)\n",
    "\n",
    "val_data_loader = torch.utils.data.DataLoader(val_dataset,\n",
    "                                          batch_size=BATCH_SIZE,\n",
    "                                          shuffle=False,\n",
    "                                          num_workers = 2,\n",
    "                                          pin_memory = True)\n",
    "                                        \n",
    "test_data_loader = torch.utils.data.DataLoader(test_dataset,\n",
    "                                          batch_size=BATCH_SIZE,\n",
    "                                          shuffle=False,\n",
    "                                          num_workers = 2,\n",
    "                                          pin_memory = True)"
   ]
  },
  {
   "cell_type": "code",
   "execution_count": 18,
   "metadata": {},
   "outputs": [
    {
     "name": "stdout",
     "output_type": "stream",
     "text": [
      " Data shape: torch.Size([32, 1, 128, 128]), label shape: torch.Size([32])\n"
     ]
    }
   ],
   "source": [
    "# Проверим что загрузчики работают\n",
    "for data, label in train_data_loader:\n",
    "    print(f' Data shape: {data.shape}, label shape: {label.shape}')\n",
    "    break"
   ]
  },
  {
   "cell_type": "code",
   "execution_count": 57,
   "metadata": {},
   "outputs": [],
   "source": [
    "def get_feature_dataset(dataloader: DataLoader, name: str, model: nn.Module, device: str ='cuda'):\n",
    "    \"\"\"Преобразует исходный датасет в набор векторов с помощью model и сохраняет как numpy массив.\n",
    "\n",
    "    Args:\n",
    "        dataloader (DataLoader):\n",
    "        name (str): \n",
    "        model (nn.Module): \n",
    "        device (str, optional): Defaults to 'cuda'.\n",
    "    \"\"\"\n",
    "    flag = True\n",
    "    np_out = []\n",
    "    model.eval()\n",
    "    for x, y in dataloader:\n",
    "        x = x.to(device)\n",
    "        out = model(x, True)\n",
    "        if flag:\n",
    "            np_y = y.detach().numpy()\n",
    "            np_out = out.cpu().detach().numpy()\n",
    "            flag = False\n",
    "        else:\n",
    "            np_y = np.append(np_y, y.detach().numpy())\n",
    "            np_out = np.append(np_out, out.cpu().detach().numpy(), axis=0)\n",
    "    np.save(f'./data/features/{name}_x.npy', np_out)\n",
    "    np.save(f'./data/features/{name}_y.npy', np_y)"
   ]
  },
  {
   "cell_type": "code",
   "execution_count": 58,
   "metadata": {},
   "outputs": [],
   "source": [
    "get_feature_dataset(train_data_loader,'train', model, device)\n",
    "get_feature_dataset(val_data_loader,'val', model, device)\n",
    "get_feature_dataset(test_data_loader,'test', model, device)"
   ]
  },
  {
   "cell_type": "markdown",
   "metadata": {},
   "source": [
    "В результате получили новое представление исходного датасета в виде векторов длины 8192."
   ]
  },
  {
   "cell_type": "markdown",
   "metadata": {},
   "source": []
  }
 ],
 "metadata": {
  "kernelspec": {
   "display_name": "Python 3.9.12 ('torch')",
   "language": "python",
   "name": "python3"
  },
  "language_info": {
   "codemirror_mode": {
    "name": "ipython",
    "version": 3
   },
   "file_extension": ".py",
   "mimetype": "text/x-python",
   "name": "python",
   "nbconvert_exporter": "python",
   "pygments_lexer": "ipython3",
   "version": "3.9.12"
  },
  "orig_nbformat": 4,
  "vscode": {
   "interpreter": {
    "hash": "f5742b939448406dc9452fb4bcdaa04b1d36ebd59083e6e66b8eacc4febbf333"
   }
  }
 },
 "nbformat": 4,
 "nbformat_minor": 2
}
