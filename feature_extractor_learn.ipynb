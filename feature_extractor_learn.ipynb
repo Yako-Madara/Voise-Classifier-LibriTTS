{
 "cells": [
  {
   "cell_type": "code",
   "execution_count": 3,
   "metadata": {},
   "outputs": [],
   "source": [
    "import time\n",
    "import functools\n",
    "import torch\n",
    "import torch.nn as nn\n",
    "from torch import Tensor\n",
    "from torch.optim import Optimizer\n",
    "from torch.utils.data import DataLoader\n",
    "import torch.nn.functional as F\n",
    "import torchaudio\n",
    "import numpy as np\n",
    "import matplotlib.pyplot as plt\n",
    "import sklearn\n",
    "from tqdm import trange\n",
    "import librosa\n",
    "import catboost\n",
    "import torchvision\n",
    "from models.resnet import ResNet18\n",
    "from utils.dataset import LIBRITTS\n",
    "from typing import Tuple\n",
    "from IPython.display import clear_output\n",
    "import warnings\n",
    "warnings.filterwarnings(\"ignore\", category=DeprecationWarning) "
   ]
  },
  {
   "cell_type": "markdown",
   "metadata": {},
   "source": [
    "### Обучение конструктора признаков на базе ResNet18"
   ]
  },
  {
   "cell_type": "code",
   "execution_count": 2,
   "metadata": {},
   "outputs": [],
   "source": [
    "# Параметры\n",
    "BATCH_SIZE = 32\n",
    "USE_AMP = True\n",
    "EPOCHS = 10 #250\n",
    "LR = 0.1\n",
    "WEIGHT_DECAY = 5e-4\n",
    "SAMPLE_RATE = 24000\n",
    "N_MELS = 128\n",
    "N_FFT = 1024"
   ]
  },
  {
   "cell_type": "code",
   "execution_count": 3,
   "metadata": {},
   "outputs": [
    {
     "data": {
      "text/plain": [
       "<torch._C.Generator at 0x18820c18c70>"
      ]
     },
     "execution_count": 3,
     "metadata": {},
     "output_type": "execute_result"
    }
   ],
   "source": [
    "torch.autograd.set_detect_anomaly(False)\n",
    "torch.autograd.profiler.profile(False)\n",
    "torch.autograd.profiler.emit_nvtx(False)\n",
    "torch.manual_seed(24)"
   ]
  },
  {
   "cell_type": "code",
   "execution_count": 5,
   "metadata": {},
   "outputs": [
    {
     "name": "stdout",
     "output_type": "stream",
     "text": [
      "Using cuda device\n"
     ]
    }
   ],
   "source": [
    "device = \"cuda\" if torch.cuda.is_available() else \"cpu\"\n",
    "if device == 'cuda':\n",
    "    torch.backends.cudnn.benchmark = True\n",
    "print(\"Using {} device\".format(device))"
   ]
  },
  {
   "cell_type": "markdown",
   "metadata": {},
   "source": [
    "Загружаем датасет"
   ]
  },
  {
   "cell_type": "code",
   "execution_count": 6,
   "metadata": {},
   "outputs": [],
   "source": [
    "sample_transforms_test = torchvision.transforms.Compose([\n",
    "    torchaudio.transforms.MelSpectrogram(sample_rate=SAMPLE_RATE,\n",
    "                                        n_fft=N_FFT, \n",
    "                                        n_mels=N_MELS,\n",
    "                                        normalized=True),\n",
    "    torchvision.transforms.Resize((128, 128))\n",
    "])\n",
    "\n",
    "sample_transforms_train = torchvision.transforms.Compose([\n",
    "    torchaudio.transforms.MelSpectrogram(sample_rate=SAMPLE_RATE,\n",
    "                                        n_fft=N_FFT, \n",
    "                                        n_mels=N_MELS,\n",
    "                                        normalized=True),\n",
    "    torchaudio.transforms.FrequencyMasking(freq_mask_param=40),\n",
    "    torchaudio.transforms.TimeMasking(time_mask_param=40),\n",
    "    torchvision.transforms.Resize((128, 128))\n",
    "])"
   ]
  },
  {
   "cell_type": "code",
   "execution_count": 7,
   "metadata": {},
   "outputs": [],
   "source": [
    "gender_labels = torch.load('./data/labels/gender_labels')"
   ]
  },
  {
   "cell_type": "code",
   "execution_count": 8,
   "metadata": {},
   "outputs": [],
   "source": [
    "test_dataset = LIBRITTS(\n",
    "    root='./data/',\n",
    "    url=\"test-clean\",\n",
    "    download=True,\n",
    "    gender_labels=gender_labels,\n",
    "    transforms=sample_transforms_test\n",
    ")"
   ]
  },
  {
   "cell_type": "code",
   "execution_count": 9,
   "metadata": {},
   "outputs": [],
   "source": [
    "train_dataset = LIBRITTS(\n",
    "    root='./data/',\n",
    "    url=\"train-clean-100\",\n",
    "    download=True,\n",
    "    gender_labels=gender_labels,\n",
    "    transforms=sample_transforms_train\n",
    ")"
   ]
  },
  {
   "cell_type": "code",
   "execution_count": 10,
   "metadata": {},
   "outputs": [],
   "source": [
    "len_train_dataset = len(train_dataset)\n",
    "part_train = int(len_train_dataset*0.8)\n",
    "\n",
    "train_dataset, val_dataset = torch.utils.data.random_split(train_dataset, [part_train, len_train_dataset - part_train])"
   ]
  },
  {
   "cell_type": "markdown",
   "metadata": {},
   "source": [
    "### Посмотрим на датасет     \n",
    "В датасете не имеется информация о поле спикера, но мы можем достать ее из файла ```speakers.tsv```    \n",
    "С помощью функции utils.get_labels получаем словарь вида {speaker_id: gender[0,1]}    \n",
    "В первую очередь нас интересует его сбалансированность. Тренировочная выборка является сбалансированной, что не можен не радовать."
   ]
  },
  {
   "cell_type": "code",
   "execution_count": 16,
   "metadata": {},
   "outputs": [],
   "source": [
    "def count_labels(dataset, name: str):\n",
    "    count_M = 0\n",
    "    count_F = 0\n",
    "    for sample in dataset:\n",
    "        gender = sample[1]\n",
    "        if gender == 1:\n",
    "            count_M += 1\n",
    "        elif gender == 0:\n",
    "            count_F += 1\n",
    "    assert len(dataset) == count_F + count_M, \"Размер датасета и количество учтенных семплов не совпадает\"\n",
    "    print(f\"В датасете {name}: {count_M} мужских и {count_F} женских семплов\")"
   ]
  },
  {
   "cell_type": "code",
   "execution_count": 17,
   "metadata": {},
   "outputs": [
    {
     "name": "stdout",
     "output_type": "stream",
     "text": [
      "В датасете train: 12479 мужских и 14109 женских семплов\n",
      "В датасете val: 3128 мужских и 3520 женских семплов\n",
      "В датасете test: 1907 мужских и 2930 женских семплов\n"
     ]
    }
   ],
   "source": [
    "count_labels(train_dataset, 'train')\n",
    "count_labels(val_dataset, 'val')\n",
    "count_labels(test_dataset, 'test')"
   ]
  },
  {
   "cell_type": "code",
   "execution_count": 11,
   "metadata": {},
   "outputs": [],
   "source": [
    "train_data_loader = torch.utils.data.DataLoader(train_dataset,\n",
    "                                          batch_size=BATCH_SIZE,\n",
    "                                          shuffle=True,\n",
    "                                          num_workers = 2,\n",
    "                                          pin_memory = True)\n",
    "\n",
    "val_data_loader = torch.utils.data.DataLoader(val_dataset,\n",
    "                                          batch_size=BATCH_SIZE,\n",
    "                                          shuffle=False,\n",
    "                                          num_workers = 2,\n",
    "                                          pin_memory = True)\n",
    "                                        \n",
    "test_data_loader = torch.utils.data.DataLoader(test_dataset,\n",
    "                                          batch_size=BATCH_SIZE,\n",
    "                                          shuffle=False,\n",
    "                                          num_workers = 2,\n",
    "                                          pin_memory = True)"
   ]
  },
  {
   "cell_type": "code",
   "execution_count": 12,
   "metadata": {},
   "outputs": [
    {
     "name": "stdout",
     "output_type": "stream",
     "text": [
      " Data shape: torch.Size([32, 1, 128, 128]), label shape: torch.Size([32])\n"
     ]
    }
   ],
   "source": [
    "# Проверим что загрузчики работают\n",
    "for data, label in train_data_loader:\n",
    "    print(f' Data shape: {data.shape}, label shape: {label.shape}')\n",
    "    break"
   ]
  },
  {
   "cell_type": "markdown",
   "metadata": {},
   "source": [
    "Признаки будем извлекать с помощью ResNet18"
   ]
  },
  {
   "cell_type": "code",
   "execution_count": 14,
   "metadata": {},
   "outputs": [],
   "source": [
    "def count_correct(y_pred: Tensor, y_true: Tensor) -> float:\n",
    "    \"\"\"Считает количество истинно-положительных предсказаний.\n",
    "\n",
    "    Args:\n",
    "        y_pred (Tensor):\n",
    "        y_true (Tensor):\n",
    "\n",
    "    Returns:\n",
    "        float: \n",
    "    \"\"\"\n",
    "    y_pred_tag = torch.round(torch.sigmoid(y_pred))\n",
    "    result_sum = (y_pred_tag == y_true).sum().item()\n",
    "    return result_sum"
   ]
  },
  {
   "cell_type": "code",
   "execution_count": 27,
   "metadata": {},
   "outputs": [],
   "source": [
    "model = ResNet18().to(device)"
   ]
  },
  {
   "cell_type": "code",
   "execution_count": 28,
   "metadata": {},
   "outputs": [],
   "source": [
    "loss_fn = torch.nn.BCEWithLogitsLoss()\n",
    "#optimizer = torch.optim.Adam(model.parameters(), lr=LR, weight_decay=WEIGHT_DECAY)\n",
    "scaler = torch.cuda.amp.GradScaler(enabled=USE_AMP)\n",
    "optimizer = torch.optim.SGD(model.parameters(), lr=LR, momentum=0.9, weight_decay=WEIGHT_DECAY)\n",
    "#optimizer = torch.optim.AdamW(model.parameters())\n",
    "scheduler = torch.optim.lr_scheduler.CosineAnnealingLR(optimizer, T_max = 200)"
   ]
  },
  {
   "cell_type": "code",
   "execution_count": 29,
   "metadata": {},
   "outputs": [],
   "source": [
    "# Training logs\n",
    "interval = 100\n",
    "train_ts, train_loss, train_acc = [], [], []\n",
    "val_ts, val_loss, val_acc = [], [], []"
   ]
  },
  {
   "cell_type": "code",
   "execution_count": 30,
   "metadata": {},
   "outputs": [],
   "source": [
    "def show_progress(t: float):\n",
    "    \"\"\"Выводит графики. \n",
    "\n",
    "    Args:\n",
    "        t (float): момент обучения (эпоха), может быть дробным\n",
    "    \"\"\"\n",
    "    clear_output(wait=True)\n",
    "    fig, (ax1, ax2) = plt.subplots(1, 2, constrained_layout=True, figsize=(20, 5))\n",
    "    fig.suptitle(f'Epoch {t:3.3f}', fontsize=16)\n",
    "    ax1.set_title('loss')\n",
    "    ax1.set_xlabel('time (epochs)')\n",
    "    ax1.set_ylabel('loss')\n",
    "    ax1.plot(train_ts, train_loss, c='darkblue', lw=3)\n",
    "    ax1.plot(val_ts, val_loss, c='green', marker='o', lw=5)\n",
    "    ax2.set_title('accuracy')\n",
    "    ax2.set_xlabel('time (epochs)')\n",
    "    ax2.plot(train_ts, train_acc, c='darkblue', lw=3)\n",
    "    ax2.plot(val_ts, val_acc, c='green', marker='o', lw=5)\n",
    "    plt.show() "
   ]
  },
  {
   "cell_type": "code",
   "execution_count": 31,
   "metadata": {},
   "outputs": [],
   "source": [
    "def train(epoch: int, dataloader: DataLoader, model: nn.Module, loss_fn: nn.Module, optimizer: Optimizer):\n",
    "    \"\"\"Функция обучения.\n",
    "\n",
    "    Args:\n",
    "        epoch (int): текущая эпоха\n",
    "        dataloader (DataLoader): загрузчик данных\n",
    "        model (nn.Module): обучаемая модель\n",
    "        loss_fn (nn.Module): функция потерь\n",
    "        optimizer (Optimizer): оптимизатор\n",
    "    \"\"\"\n",
    "    model.train()\n",
    "    num_batches = len(dataloader)\n",
    "    correct, size = 0, 0\n",
    "    train_error = 0\n",
    "    for batch, (X, y) in enumerate(dataloader):\n",
    "        # Send data to training device\n",
    "        X, y = X.to(device), y.to(device)\n",
    "        with torch.autocast(device_type='cuda', dtype=torch.float16):\n",
    "            # Compute prediction error\n",
    "            pred = model(X)\n",
    "            loss = loss_fn(pred, y.unsqueeze(1))\n",
    "        # Backpropagation\n",
    "        scaler.scale(loss).backward()\n",
    "        scaler.step(optimizer)\n",
    "        scaler.update()\n",
    "        # Здесь не будет обрезания градиентов \n",
    "        train_error += loss.item()\n",
    "        # Посчитаем accuracy\n",
    "        correct += count_correct(pred, y.unsqueeze(1))\n",
    "        size += len(X)\n",
    "        # Сбросим градиенты альтернативным способом\n",
    "        for param in model.parameters():\n",
    "            param.grad = None\n",
    "        # Progress output\n",
    "    train_ts.append(epoch+1)\n",
    "    train_loss.append(train_error / num_batches)\n",
    "    train_acc.append(correct / size)\n",
    "    show_progress(epoch+1)"
   ]
  },
  {
   "cell_type": "code",
   "execution_count": 32,
   "metadata": {},
   "outputs": [],
   "source": [
    "def test(epoch: int, dataloader: DataLoader, model: nn.Module, loss_fn: nn.Module):\n",
    "    \"\"\"Функция инференса.\n",
    "\n",
    "    Args:\n",
    "        epoch (int): номер текущей эпохи\n",
    "        dataloader (DataLoader): загрузчик данных\n",
    "        model (nn.Module): воспроизводимая модель\n",
    "        loss_fn (nn.Module): функция потерь\n",
    "    \"\"\"\n",
    "    model.eval()\n",
    "    num_batches = len(dataloader)\n",
    "    size = len(dataloader.dataset)\n",
    "    test_loss, correct = 0, 0\n",
    "    with torch.no_grad():\n",
    "        for X, y in dataloader:\n",
    "            X, y = X.to(device), y.to(device)\n",
    "            pred = model(X)\n",
    "            test_loss += loss_fn(pred, y.unsqueeze(1)).item()\n",
    "            correct += count_correct(pred, y.unsqueeze(1))\n",
    "    test_loss /= num_batches\n",
    "    correct /= size\n",
    "    val_ts.append(epoch+1)\n",
    "    val_loss.append(test_loss)\n",
    "    val_acc.append(correct)\n",
    "    show_progress(epoch+1)"
   ]
  },
  {
   "cell_type": "code",
   "execution_count": 33,
   "metadata": {},
   "outputs": [
    {
     "data": {
      "image/png": "[encoded data removed]",
      "text/plain": [
       "<Figure size 2000x500 with 2 Axes>"
      ]
     },
     "metadata": {},
     "output_type": "display_data"
    },
    {
     "name": "stderr",
     "output_type": "stream",
     "text": [
      "100%|██████████| 10/10 [17:30<00:00, 105.07s/it]\n"
     ]
    }
   ],
   "source": [
    "for t in trange(EPOCHS):\n",
    "    train(t, train_data_loader, model, loss_fn, optimizer)\n",
    "    test(t, val_data_loader, model, loss_fn)\n",
    "    scheduler.step()"
   ]
  },
  {
   "cell_type": "code",
   "execution_count": 34,
   "metadata": {},
   "outputs": [],
   "source": [
    "torch.save(model, './parameters/model.pkl')"
   ]
  },
  {
   "cell_type": "code",
   "execution_count": 36,
   "metadata": {},
   "outputs": [
    {
     "data": {
      "text/plain": [
       "0.9124548736462094"
      ]
     },
     "execution_count": 36,
     "metadata": {},
     "output_type": "execute_result"
    }
   ],
   "source": [
    "val_acc[-1]"
   ]
  },
  {
   "cell_type": "code",
   "execution_count": 37,
   "metadata": {},
   "outputs": [],
   "source": [
    "# Посчитаем accuracy для test\n",
    "def test(epoch: int, dataloader: DataLoader, model: nn.Module, loss_fn: nn.Module) -> float:\n",
    "    \"\"\" \"Одноразовая\" функция инференсa.\n",
    "\n",
    "    Args:\n",
    "        epoch (int): номер текущей эпохи\n",
    "        dataloader (DataLoader): загрузчик данных\n",
    "        model (nn.Module): воспроизводимая модель\n",
    "        loss_fn (nn.Module): функция потерь\n",
    "\n",
    "    Returns:\n",
    "        float: accuracy\n",
    "    \"\"\"\n",
    "    model.eval()\n",
    "    num_batches = len(dataloader)\n",
    "    size = len(dataloader.dataset)\n",
    "    test_loss, correct = 0, 0\n",
    "    with torch.no_grad():\n",
    "        for X, y in dataloader:\n",
    "            X, y = X.to(device), y.to(device)\n",
    "            pred = model(X)\n",
    "            test_loss += loss_fn(pred, y.unsqueeze(1)).item()\n",
    "            correct += count_correct(pred, y.unsqueeze(1))\n",
    "    test_loss /= num_batches\n",
    "    correct /= size\n",
    "    return correct"
   ]
  },
  {
   "cell_type": "markdown",
   "metadata": {},
   "source": [
    "Отдельно, предварительно посчитаем точность на тестовом датасете. Получили Accuracy 0.96. Это не итоговый результат. Целью данного этапа было обучения нейронной сети способной выделять ключевые признаки из аудиофайлов для бинарной классификации."
   ]
  },
  {
   "cell_type": "code",
   "execution_count": 38,
   "metadata": {},
   "outputs": [
    {
     "data": {
      "text/plain": [
       "0.9652677279305355"
      ]
     },
     "execution_count": 38,
     "metadata": {},
     "output_type": "execute_result"
    }
   ],
   "source": [
    "test(10, test_data_loader, model, loss_fn)"
   ]
  }
 ],
 "metadata": {
  "kernelspec": {
   "display_name": "Python 3.9.12 ('torch')",
   "language": "python",
   "name": "python3"
  },
  "language_info": {
   "codemirror_mode": {
    "name": "ipython",
    "version": 3
   },
   "file_extension": ".py",
   "mimetype": "text/x-python",
   "name": "python",
   "nbconvert_exporter": "python",
   "pygments_lexer": "ipython3",
   "version": "3.9.12"
  },
  "orig_nbformat": 4,
  "vscode": {
   "interpreter": {
    "hash": "f5742b939448406dc9452fb4bcdaa04b1d36ebd59083e6e66b8eacc4febbf333"
   }
  }
 },
 "nbformat": 4,
 "nbformat_minor": 2
}
